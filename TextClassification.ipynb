{
 "cells": [
  {
   "cell_type": "markdown",
   "metadata": {},
   "source": [
    "# Text Classification\n",
    "* "
   ]
  },
  {
   "cell_type": "code",
   "execution_count": 239,
   "metadata": {},
   "outputs": [],
   "source": [
    "%matplotlib inline\n",
    "import pandas as pd\n",
    "import numpy as np\n",
    "import re\n",
    "import matplotlib.pyplot as plt\n",
    "import seaborn as sns"
   ]
  },
  {
   "cell_type": "code",
   "execution_count": 2,
   "metadata": {},
   "outputs": [
    {
     "data": {
      "text/html": [
       "<div>\n",
       "<style>\n",
       "    .dataframe thead tr:only-child th {\n",
       "        text-align: right;\n",
       "    }\n",
       "\n",
       "    .dataframe thead th {\n",
       "        text-align: left;\n",
       "    }\n",
       "\n",
       "    .dataframe tbody tr th {\n",
       "        vertical-align: top;\n",
       "    }\n",
       "</style>\n",
       "<table border=\"1\" class=\"dataframe\">\n",
       "  <thead>\n",
       "    <tr style=\"text-align: right;\">\n",
       "      <th></th>\n",
       "      <th>content</th>\n",
       "      <th>sentiment</th>\n",
       "    </tr>\n",
       "  </thead>\n",
       "  <tbody>\n",
       "    <tr>\n",
       "      <th>0</th>\n",
       "      <td>Great fun!, Got these last Christmas as a gag ...</td>\n",
       "      <td>1</td>\n",
       "    </tr>\n",
       "    <tr>\n",
       "      <th>1</th>\n",
       "      <td>Inspiring, I hope a lot of people hear this cd...</td>\n",
       "      <td>1</td>\n",
       "    </tr>\n",
       "  </tbody>\n",
       "</table>\n",
       "</div>"
      ],
      "text/plain": [
       "                                             content  sentiment\n",
       "0  Great fun!, Got these last Christmas as a gag ...          1\n",
       "1  Inspiring, I hope a lot of people hear this cd...          1"
      ]
     },
     "execution_count": 2,
     "metadata": {},
     "output_type": "execute_result"
    }
   ],
   "source": [
    "data = pd.read_csv('data.csv', header=0)\n",
    "data.head(2)"
   ]
  },
  {
   "cell_type": "code",
   "execution_count": 3,
   "metadata": {},
   "outputs": [
    {
     "data": {
      "text/plain": [
       "(33000, 2)"
      ]
     },
     "execution_count": 3,
     "metadata": {},
     "output_type": "execute_result"
    }
   ],
   "source": [
    "data.shape"
   ]
  },
  {
   "cell_type": "code",
   "execution_count": 182,
   "metadata": {},
   "outputs": [
    {
     "data": {
      "text/plain": [
       "Text(0.5,1,'Sentiment Counts')"
      ]
     },
     "execution_count": 182,
     "metadata": {},
     "output_type": "execute_result"
    },
    {
     "data": {
      "image/png": "[encoded data removed]",
      "text/plain": [
       "<matplotlib.figure.Figure at 0x7bb8ac8>"
      ]
     },
     "metadata": {},
     "output_type": "display_data"
    }
   ],
   "source": [
    "sns.countplot(data.sentiment)\n",
    "plt.title(\"Sentiment Counts\")"
   ]
  },
  {
   "cell_type": "markdown",
   "metadata": {},
   "source": [
    "#### Positive to Negative class ratio is 1:10. For such case accuracy may not be a good metric. Metrics such as F1-score, Area under ROC should be evaluated. "
   ]
  },
  {
   "cell_type": "code",
   "execution_count": 5,
   "metadata": {},
   "outputs": [],
   "source": [
    "# a function to draw confusion matrix\n",
    "def plotConfusion(df):\n",
    "    plt.figure(figsize=(5,5))\n",
    "\n",
    "    sns.heatmap(pd.DataFrame(df), \n",
    "                annot=True, fmt='.5g',annot_kws={\"size\":24}, \n",
    "                cmap=\"seismic\", cbar=False)\n",
    "    plt.xlabel('Prediction')\n",
    "    plt.ylabel('Actual')\n",
    "    plt.title('Confusion Matrix')\n",
    "    plt.show()"
   ]
  },
  {
   "cell_type": "markdown",
   "metadata": {},
   "source": [
    "#### Simple model: text classification \n",
    "* Bag-of-word model\n",
    "* Lets do 80/20 split for train and validation\n",
    "* Using only unigrams\n",
    "* Naive Bayes Classifier is usually good for text classification"
   ]
  },
  {
   "cell_type": "code",
   "execution_count": 6,
   "metadata": {},
   "outputs": [],
   "source": [
    "#simple model text classification \n",
    "\n",
    "from sklearn.model_selection import train_test_split\n",
    "trainX, validX, trainY, validY = train_test_split(data['content'], data['sentiment'], test_size=0.2, random_state=42) \n",
    "\n"
   ]
  },
  {
   "cell_type": "code",
   "execution_count": 7,
   "metadata": {},
   "outputs": [
    {
     "data": {
      "text/plain": [
       "((26400,), (6600,), (26400,), (6600,))"
      ]
     },
     "execution_count": 7,
     "metadata": {},
     "output_type": "execute_result"
    }
   ],
   "source": [
    "trainX.shape, validX.shape, trainY.shape, validY.shape"
   ]
  },
  {
   "cell_type": "code",
   "execution_count": 8,
   "metadata": {},
   "outputs": [
    {
     "name": "stdout",
     "output_type": "stream",
     "text": [
      "Train Accuracy 0.966325757576\n",
      "Validation Accuracy 0.953333333333\n",
      "             precision    recall  f1-score   support\n",
      "\n",
      "          0       0.96      1.00      0.98      6042\n",
      "          1       0.91      0.50      0.64       558\n",
      "\n",
      "avg / total       0.95      0.95      0.95      6600\n",
      "\n"
     ]
    },
    {
     "data": {
      "image/png": "[encoded data removed]",
      "text/plain": [
       "<matplotlib.figure.Figure at 0xa736748>"
      ]
     },
     "metadata": {},
     "output_type": "display_data"
    }
   ],
   "source": [
    "from sklearn.feature_extraction.text import CountVectorizer \n",
    "vec = CountVectorizer()  #unigram\n",
    "bow=vec.fit(trainX.values)\n",
    "#print(bow.shape)\n",
    "X_train = vec.transform(trainX)\n",
    "X_valid = vec.transform(validX)\n",
    "\n",
    "#classifier Naive Bayes\n",
    "from sklearn.naive_bayes import MultinomialNB\n",
    "from sklearn.metrics import confusion_matrix, classification_report\n",
    "clf = MultinomialNB()\n",
    "clf.fit(X_train,trainY)\n",
    "print('Train Accuracy',clf.score(X_train,trainY))\n",
    "predictedY = clf.predict(X_valid)\n",
    "print('Validation Accuracy', clf.score(X_valid, validY))\n",
    "\n",
    "print(classification_report(validY, predictedY))\n",
    "\n",
    "cm=confusion_matrix(validY,clf.predict(X_valid))\n",
    "plotConfusion(cm)\n",
    "\n"
   ]
  },
  {
   "cell_type": "markdown",
   "metadata": {},
   "source": [
    "#### Let us try n-grams"
   ]
  },
  {
   "cell_type": "code",
   "execution_count": 10,
   "metadata": {},
   "outputs": [
    {
     "name": "stdout",
     "output_type": "stream",
     "text": [
      "Train Accuracy 0.985189393939\n",
      "Validation Accuracy 0.918484848485\n",
      "             precision    recall  f1-score   support\n",
      "\n",
      "          0       0.92      1.00      0.96      6042\n",
      "          1       0.86      0.04      0.08       558\n",
      "\n",
      "avg / total       0.91      0.92      0.88      6600\n",
      "\n"
     ]
    },
    {
     "data": {
      "image/png": "[encoded data removed]",
      "text/plain": [
       "<matplotlib.figure.Figure at 0xc802b70>"
      ]
     },
     "metadata": {},
     "output_type": "display_data"
    }
   ],
   "source": [
    "from sklearn.feature_extraction.text import CountVectorizer \n",
    "vec = CountVectorizer(ngram_range=(1,3))  #unigram\n",
    "bow=vec.fit(trainX.values)\n",
    "#print(bow.shape)\n",
    "X_train = vec.transform(trainX)\n",
    "X_valid = vec.transform(validX)\n",
    "\n",
    "#classifier Naive Bayes\n",
    "from sklearn.naive_bayes import MultinomialNB\n",
    "from sklearn.metrics import confusion_matrix, classification_report\n",
    "clf = MultinomialNB()\n",
    "clf.fit(X_train,trainY)\n",
    "print('Train Accuracy',clf.score(X_train,trainY))\n",
    "predictedY = clf.predict(X_valid)\n",
    "print('Validation Accuracy', clf.score(X_valid, validY))\n",
    "\n",
    "print(classification_report(validY, predictedY))\n",
    "\n",
    "cm=confusion_matrix(validY,clf.predict(X_valid))\n",
    "plotConfusion(cm)"
   ]
  },
  {
   "cell_type": "markdown",
   "metadata": {},
   "source": [
    "#### Did not help much. Let us try some variation say fix the size of wordvectors"
   ]
  },
  {
   "cell_type": "code",
   "execution_count": 12,
   "metadata": {},
   "outputs": [
    {
     "name": "stdout",
     "output_type": "stream",
     "text": [
      "Train Accuracy 0.97053030303\n",
      "Validation Accuracy 0.962121212121\n",
      "             precision    recall  f1-score   support\n",
      "\n",
      "          0       0.98      0.97      0.98      6042\n",
      "          1       0.75      0.83      0.79       558\n",
      "\n",
      "avg / total       0.96      0.96      0.96      6600\n",
      "\n"
     ]
    },
    {
     "data": {
      "image/png": "[encoded data removed]",
      "text/plain": [
       "<matplotlib.figure.Figure at 0xa9ac080>"
      ]
     },
     "metadata": {},
     "output_type": "display_data"
    }
   ],
   "source": [
    "vec = CountVectorizer(max_features=8000)  #unigram\n",
    "bow=vec.fit(data['content'].values)\n",
    "#print(bow.shape)\n",
    "X_train = vec.transform(trainX)\n",
    "X_valid = vec.transform(validX)\n",
    "\n",
    "#classifier Naive Bayes\n",
    "from sklearn.naive_bayes import MultinomialNB\n",
    "from sklearn.metrics import confusion_matrix, classification_report\n",
    "clf = MultinomialNB()\n",
    "clf.fit(X_train,trainY)\n",
    "print('Train Accuracy',clf.score(X_train,trainY))\n",
    "predictedY = clf.predict(X_valid)\n",
    "print('Validation Accuracy', clf.score(X_valid, validY))\n",
    "\n",
    "print(classification_report(validY, predictedY))\n",
    "\n",
    "cm=confusion_matrix(validY,clf.predict(X_valid))\n",
    "plotConfusion(cm)"
   ]
  },
  {
   "cell_type": "markdown",
   "metadata": {},
   "source": [
    "#### Try TF-IDF"
   ]
  },
  {
   "cell_type": "code",
   "execution_count": 15,
   "metadata": {},
   "outputs": [
    {
     "name": "stdout",
     "output_type": "stream",
     "text": [
      "Train Accuracy 0.938295454545\n",
      "Validation Accuracy 0.937272727273\n",
      "             precision    recall  f1-score   support\n",
      "\n",
      "          0       0.94      1.00      0.97      6042\n",
      "          1       0.94      0.28      0.43       558\n",
      "\n",
      "avg / total       0.94      0.94      0.92      6600\n",
      "\n"
     ]
    },
    {
     "name": "stderr",
     "output_type": "stream",
     "text": [
      "C:\\Users\\10257559\\AppData\\Local\\Continuum\\Anaconda3\\lib\\site-packages\\sklearn\\naive_bayes.py:699: RuntimeWarning: divide by zero encountered in log\n",
      "  self.feature_log_prob_ = (np.log(smoothed_fc) -\n"
     ]
    },
    {
     "data": {
      "image/png": "[encoded data removed]",
      "text/plain": [
       "<matplotlib.figure.Figure at 0x21f86e10>"
      ]
     },
     "metadata": {},
     "output_type": "display_data"
    }
   ],
   "source": [
    "#tf-idf \n",
    "from sklearn.feature_extraction.text import TfidfVectorizer\n",
    "tfidf = TfidfVectorizer(max_features=3000) #ngram_range=(1,2))  #unigram\n",
    "bow=tfidf.fit(data['content'].values)\n",
    "#print(bow.shape)\n",
    "X_train = tfidf.transform(trainX)\n",
    "X_valid = tfidf.transform(validX)\n",
    "\n",
    "#classifier Naive Bayes\n",
    "#from sklearn.naive_bayes import MultinomialNB\n",
    "#from sklearn.metrics import confusion_matrix, classification_report\n",
    "clf = MultinomialNB(alpha=0.0)\n",
    "clf.fit(X_train,trainY)\n",
    "print('Train Accuracy',clf.score(X_train,trainY))\n",
    "predictedY = clf.predict(X_valid)\n",
    "print('Validation Accuracy', clf.score(X_valid, validY))\n",
    "\n",
    "print(classification_report(validY, predictedY))\n",
    "\n",
    "cm=confusion_matrix(validY,clf.predict(X_valid))\n",
    "plotConfusion(cm)"
   ]
  },
  {
   "cell_type": "markdown",
   "metadata": {},
   "source": [
    "#### Did not help"
   ]
  },
  {
   "cell_type": "markdown",
   "metadata": {},
   "source": [
    "## Let us clean the text to see if it helps"
   ]
  },
  {
   "cell_type": "code",
   "execution_count": 27,
   "metadata": {},
   "outputs": [],
   "source": [
    "from nltk.tokenize import RegexpTokenizer\n",
    "from nltk.corpus import stopwords\n",
    "def cleanText(line):\n",
    "    line = line.lower()\n",
    "    line = re.sub(\"[0-9]\",\" \",line) # remove numbers only\n",
    "    tokenizer = RegexpTokenizer(r'\\w+')\n",
    "    tokens = tokenizer.tokenize(line)\n",
    "    words = [w for w in tokens if not w in stopwords.words('english')]\n",
    "    return \" \".join(words)\n",
    "    #return line\n",
    "\n"
   ]
  },
  {
   "cell_type": "code",
   "execution_count": 29,
   "metadata": {},
   "outputs": [],
   "source": [
    "data['cleanedTxt'] = data['content'].apply(cleanText)   #will take some time"
   ]
  },
  {
   "cell_type": "code",
   "execution_count": 197,
   "metadata": {},
   "outputs": [],
   "source": [
    "trainX, validX, trainY, validY = train_test_split(data['cleanedTxt'].values, data['sentiment'].values, test_size=0.2, random_state=42) "
   ]
  },
  {
   "cell_type": "code",
   "execution_count": 198,
   "metadata": {},
   "outputs": [
    {
     "name": "stdout",
     "output_type": "stream",
     "text": [
      "Train Accuracy 0.972878787879\n",
      "Validation Accuracy 0.962424242424\n",
      "             precision    recall  f1-score   support\n",
      "\n",
      "          0       0.98      0.98      0.98      6042\n",
      "          1       0.75      0.82      0.79       558\n",
      "\n",
      "avg / total       0.96      0.96      0.96      6600\n",
      "\n"
     ]
    },
    {
     "data": {
      "image/png": "[encoded data removed]",
      "text/plain": [
       "<matplotlib.figure.Figure at 0x10c62c18>"
      ]
     },
     "metadata": {},
     "output_type": "display_data"
    }
   ],
   "source": [
    "#apply tokenizer on \n",
    "vec = CountVectorizer(max_features=8000)#ngram_range=(1,3))  #unigram\n",
    "bow=vec.fit(data['cleanedTxt'].values)\n",
    "#print(bow.shape)\n",
    "X_train = vec.transform(trainX)\n",
    "X_valid = vec.transform(validX)\n",
    "\n",
    "#classifier Naive Bayes\n",
    "from sklearn.naive_bayes import MultinomialNB\n",
    "from sklearn.metrics import confusion_matrix, classification_report\n",
    "clf = MultinomialNB(alpha=0.5)\n",
    "clf.fit(X_train,trainY)\n",
    "print('Train Accuracy',clf.score(X_train,trainY))\n",
    "predictedY = clf.predict(X_valid)\n",
    "print('Validation Accuracy', clf.score(X_valid, validY))\n",
    "\n",
    "print(classification_report(validY, predictedY))\n",
    "\n",
    "cm=confusion_matrix(validY,clf.predict(X_valid))\n",
    "plotConfusion(cm)"
   ]
  },
  {
   "cell_type": "markdown",
   "metadata": {},
   "source": [
    "#### Similar result as before\n",
    "\n",
    "#### Try some more algorithms"
   ]
  },
  {
   "cell_type": "code",
   "execution_count": 57,
   "metadata": {},
   "outputs": [
    {
     "name": "stdout",
     "output_type": "stream",
     "text": [
      "Train Accuracy 0.999734848485\n",
      "Validation Accuracy 0.939848484848\n",
      "             precision    recall  f1-score   support\n",
      "\n",
      "          0       0.94      1.00      0.97      6042\n",
      "          1       0.91      0.32      0.47       558\n",
      "\n",
      "avg / total       0.94      0.94      0.93      6600\n",
      "\n"
     ]
    },
    {
     "data": {
      "image/png": "[encoded data removed]",
      "text/plain": [
       "<matplotlib.figure.Figure at 0xaae2438>"
      ]
     },
     "metadata": {},
     "output_type": "display_data"
    }
   ],
   "source": [
    "from sklearn.ensemble import RandomForestClassifier\n",
    "rf = RandomForestClassifier(criterion='entropy', max_depth=None, n_estimators=50)\n",
    "rf.fit(X_train, trainY)\n",
    "print('Train Accuracy', rf.score(X_train, trainY))\n",
    "predictedY = rf.predict(X_valid)\n",
    "print('Validation Accuracy', rf.score(X_valid, validY))\n",
    "\n",
    "print(classification_report(validY, predictedY))\n",
    "\n",
    "cm=confusion_matrix(validY,predictedY)\n",
    "plotConfusion(cm)"
   ]
  },
  {
   "cell_type": "code",
   "execution_count": 61,
   "metadata": {},
   "outputs": [
    {
     "name": "stdout",
     "output_type": "stream",
     "text": [
      "Train Accuracy 0.999431818182\n",
      "Validation Accuracy 0.960151515152\n",
      "trainConfusion matrix\n",
      "[[23945    13]\n",
      " [    2  2440]]\n",
      "             precision    recall  f1-score   support\n",
      "\n",
      "          0       0.98      0.98      0.98      6042\n",
      "          1       0.76      0.77      0.76       558\n",
      "\n",
      "avg / total       0.96      0.96      0.96      6600\n",
      "\n"
     ]
    },
    {
     "data": {
      "image/png": "[encoded data removed]",
      "text/plain": [
       "<matplotlib.figure.Figure at 0xe074be0>"
      ]
     },
     "metadata": {},
     "output_type": "display_data"
    },
    {
     "name": "stdout",
     "output_type": "stream",
     "text": [
      "Area Under ROC 0.871692952202\n"
     ]
    }
   ],
   "source": [
    "from sklearn.neural_network import MLPClassifier\n",
    "mlp = MLPClassifier(hidden_layer_sizes=(2,),\n",
    "                    activation='logistic',\n",
    "                    max_iter=350\n",
    "                   )\n",
    "mlp.fit(X_train, trainY)\n",
    "print('Train Accuracy', mlp.score(X_train, trainY))\n",
    "predictedY = mlp.predict(X_valid)\n",
    "print('Validation Accuracy', mlp.score(X_valid, validY))\n",
    "\n",
    "print('trainConfusion matrix')\n",
    "print(confusion_matrix(trainY, mlp.predict(X_train)))\n",
    "print(classification_report(validY, predictedY))\n",
    "\n",
    "cm=confusion_matrix(validY,predictedY)\n",
    "plotConfusion(cm)\n",
    "\n",
    "from sklearn.metrics import roc_auc_score\n",
    "print('Area Under ROC',roc_auc_score(validY,predictedY))"
   ]
  },
  {
   "cell_type": "code",
   "execution_count": 196,
   "metadata": {},
   "outputs": [
    {
     "name": "stdout",
     "output_type": "stream",
     "text": [
      "Train Accuracy 0.999848484848\n",
      "Validation Accuracy 0.960757575758\n",
      "trainConfusion matrix\n",
      "[[23958     0]\n",
      " [    4  2438]]\n",
      "             precision    recall  f1-score   support\n",
      "\n",
      "          0       0.98      0.98      0.98      6042\n",
      "          1       0.77      0.77      0.77       558\n",
      "\n",
      "avg / total       0.96      0.96      0.96      6600\n",
      "\n"
     ]
    },
    {
     "data": {
      "image/png": "[encoded data removed]",
      "text/plain": [
       "<matplotlib.figure.Figure at 0xe3c4b00>"
      ]
     },
     "metadata": {},
     "output_type": "display_data"
    },
    {
     "name": "stdout",
     "output_type": "stream",
     "text": [
      "Area Under ROC 0.872023968422\n"
     ]
    }
   ],
   "source": [
    "from sklearn.neural_network import MLPClassifier\n",
    "mlp = MLPClassifier(hidden_layer_sizes=(6,),\n",
    "                    activation='logistic',\n",
    "                    max_iter=350\n",
    "                   )\n",
    "X_train = vec.transform(trainX)\n",
    "X_valid = vec.transform(validX)\n",
    "mlp.fit(X_train, trainY)\n",
    "print('Train Accuracy', mlp.score(X_train, trainY))\n",
    "predictedY = mlp.predict(X_valid)\n",
    "print('Validation Accuracy', mlp.score(X_valid, validY))\n",
    "\n",
    "print('trainConfusion matrix')\n",
    "print(confusion_matrix(trainY, mlp.predict(X_train)))\n",
    "print(classification_report(validY, predictedY))\n",
    "\n",
    "cm=confusion_matrix(validY,predictedY)\n",
    "plotConfusion(cm)\n",
    "\n",
    "from sklearn.metrics import roc_auc_score\n",
    "print('Area Under ROC',roc_auc_score(validY,predictedY))"
   ]
  },
  {
   "cell_type": "code",
   "execution_count": 64,
   "metadata": {},
   "outputs": [
    {
     "name": "stdout",
     "output_type": "stream",
     "text": [
      "Train Accuracy 0.962462121212\n",
      "Validation Accuracy 0.956515151515\n",
      "trainConfusion matrix\n",
      "[[23901    57]\n",
      " [  934  1508]]\n",
      "             precision    recall  f1-score   support\n",
      "\n",
      "          0       0.96      1.00      0.98      6042\n",
      "          1       0.92      0.53      0.67       558\n",
      "\n",
      "avg / total       0.96      0.96      0.95      6600\n",
      "\n"
     ]
    },
    {
     "data": {
      "image/png": "[encoded data removed]",
      "text/plain": [
       "<matplotlib.figure.Figure at 0x19197f60>"
      ]
     },
     "metadata": {},
     "output_type": "display_data"
    },
    {
     "name": "stdout",
     "output_type": "stream",
     "text": [
      "Area Under ROC 0.763977426829\n"
     ]
    },
    {
     "data": {
      "image/png": "[encoded data removed]",
      "text/plain": [
       "<matplotlib.figure.Figure at 0x18c9fe48>"
      ]
     },
     "metadata": {},
     "output_type": "display_data"
    }
   ],
   "source": [
    "from sklearn.linear_model import LogisticRegression\n",
    "lr = LogisticRegression()\n",
    "lr.fit(X_train, trainY)\n",
    "print('Train Accuracy', lr.score(X_train, trainY))\n",
    "predictedY = lr.predict(X_valid)\n",
    "print('Validation Accuracy', lr.score(X_valid, validY))\n",
    "\n",
    "print('trainConfusion matrix')\n",
    "print(confusion_matrix(trainY, lr.predict(X_train)))\n",
    "print(classification_report(validY, predictedY))\n",
    "\n",
    "cm=confusion_matrix(validY,predictedY)\n",
    "plotConfusion(cm)\n",
    "\n",
    "from sklearn.metrics import roc_auc_score\n",
    "print('Area Under ROC',roc_auc_score(validY,predictedY))\n",
    "from sklearn.metrics import roc_curve, auc\n",
    "fpr, tpr, threshold = roc_curve(validY, predictedY)\n",
    "roc_auc = auc(fpr, tpr)\n",
    "plt.plot(fpr,tpr, color='r', lw=3, label='ROC curve (auc= %0.3f)'%roc_auc)\n",
    "plt.plot([0,1],[0,1], 'b-')\n",
    "plt.legend(loc='best')\n",
    "plt.show()"
   ]
  },
  {
   "cell_type": "markdown",
   "metadata": {},
   "source": [
    "#### Most of the algorithms provide similary accuracy/Metrics"
   ]
  },
  {
   "cell_type": "markdown",
   "metadata": {},
   "source": [
    "# Dealing with imbalanced Classes \n",
    "#### Try undersampling \n",
    "In the train set, let us make 10 different sets of randomly picked negative classes (0) and train each with all positive classes. And validate on test set. \n"
   ]
  },
  {
   "cell_type": "code",
   "execution_count": 81,
   "metadata": {},
   "outputs": [],
   "source": [
    "indexForTestData = np.random.choice(data.index.values, int(0.2*len(data)))"
   ]
  },
  {
   "cell_type": "code",
   "execution_count": 82,
   "metadata": {},
   "outputs": [
    {
     "data": {
      "text/plain": [
       "6600"
      ]
     },
     "execution_count": 82,
     "metadata": {},
     "output_type": "execute_result"
    }
   ],
   "source": [
    "len(indexForTestData)"
   ]
  },
  {
   "cell_type": "code",
   "execution_count": 110,
   "metadata": {},
   "outputs": [],
   "source": [
    "testData = data.iloc[indexForTestData]"
   ]
  },
  {
   "cell_type": "code",
   "execution_count": 111,
   "metadata": {},
   "outputs": [],
   "source": [
    "trainData = data.iloc[~data.index.isin(indexForTestData)]"
   ]
  },
  {
   "cell_type": "code",
   "execution_count": 112,
   "metadata": {},
   "outputs": [
    {
     "data": {
      "text/plain": [
       "((6600, 3), (27026, 3))"
      ]
     },
     "execution_count": 112,
     "metadata": {},
     "output_type": "execute_result"
    }
   ],
   "source": [
    "testData.shape, trainData.shape"
   ]
  },
  {
   "cell_type": "code",
   "execution_count": 116,
   "metadata": {},
   "outputs": [
    {
     "data": {
      "text/html": [
       "<div>\n",
       "<style>\n",
       "    .dataframe thead tr:only-child th {\n",
       "        text-align: right;\n",
       "    }\n",
       "\n",
       "    .dataframe thead th {\n",
       "        text-align: left;\n",
       "    }\n",
       "\n",
       "    .dataframe tbody tr th {\n",
       "        vertical-align: top;\n",
       "    }\n",
       "</style>\n",
       "<table border=\"1\" class=\"dataframe\">\n",
       "  <thead>\n",
       "    <tr style=\"text-align: right;\">\n",
       "      <th></th>\n",
       "      <th>content</th>\n",
       "      <th>sentiment</th>\n",
       "      <th>cleanedTxt</th>\n",
       "    </tr>\n",
       "  </thead>\n",
       "  <tbody>\n",
       "    <tr>\n",
       "      <th>0</th>\n",
       "      <td>Great fun!, Got these last Christmas as a gag ...</td>\n",
       "      <td>1</td>\n",
       "      <td>great fun got last christmas gag gift great fu...</td>\n",
       "    </tr>\n",
       "    <tr>\n",
       "      <th>1</th>\n",
       "      <td>Inspiring, I hope a lot of people hear this cd...</td>\n",
       "      <td>1</td>\n",
       "      <td>inspiring hope lot people hear cd need strong ...</td>\n",
       "    </tr>\n",
       "    <tr>\n",
       "      <th>2</th>\n",
       "      <td>Great CD, My lovely Pat has one of the GREAT v...</td>\n",
       "      <td>1</td>\n",
       "      <td>great cd lovely pat one great voices generatio...</td>\n",
       "    </tr>\n",
       "    <tr>\n",
       "      <th>3</th>\n",
       "      <td>First album I've bought since Napster, We've c...</td>\n",
       "      <td>1</td>\n",
       "      <td>first album bought since napster come long way...</td>\n",
       "    </tr>\n",
       "    <tr>\n",
       "      <th>4</th>\n",
       "      <td>Amazing!, I used to find myself starting Chron...</td>\n",
       "      <td>1</td>\n",
       "      <td>amazing used find starting chrono cross time t...</td>\n",
       "    </tr>\n",
       "  </tbody>\n",
       "</table>\n",
       "</div>"
      ],
      "text/plain": [
       "                                             content  sentiment  \\\n",
       "0  Great fun!, Got these last Christmas as a gag ...          1   \n",
       "1  Inspiring, I hope a lot of people hear this cd...          1   \n",
       "2  Great CD, My lovely Pat has one of the GREAT v...          1   \n",
       "3  First album I've bought since Napster, We've c...          1   \n",
       "4  Amazing!, I used to find myself starting Chron...          1   \n",
       "\n",
       "                                          cleanedTxt  \n",
       "0  great fun got last christmas gag gift great fu...  \n",
       "1  inspiring hope lot people hear cd need strong ...  \n",
       "2  great cd lovely pat one great voices generatio...  \n",
       "3  first album bought since napster come long way...  \n",
       "4  amazing used find starting chrono cross time t...  "
      ]
     },
     "execution_count": 116,
     "metadata": {},
     "output_type": "execute_result"
    }
   ],
   "source": [
    "trainData.head()"
   ]
  },
  {
   "cell_type": "code",
   "execution_count": 114,
   "metadata": {},
   "outputs": [
    {
     "data": {
      "text/html": [
       "<div>\n",
       "<style>\n",
       "    .dataframe thead tr:only-child th {\n",
       "        text-align: right;\n",
       "    }\n",
       "\n",
       "    .dataframe thead th {\n",
       "        text-align: left;\n",
       "    }\n",
       "\n",
       "    .dataframe tbody tr th {\n",
       "        vertical-align: top;\n",
       "    }\n",
       "</style>\n",
       "<table border=\"1\" class=\"dataframe\">\n",
       "  <thead>\n",
       "    <tr style=\"text-align: right;\">\n",
       "      <th></th>\n",
       "      <th>content</th>\n",
       "      <th>sentiment</th>\n",
       "      <th>cleanedTxt</th>\n",
       "    </tr>\n",
       "  </thead>\n",
       "  <tbody>\n",
       "    <tr>\n",
       "      <th>20763</th>\n",
       "      <td>I wish I could pluck out my eyes., Based on th...</td>\n",
       "      <td>0</td>\n",
       "      <td>wish could pluck eyes based current rating mov...</td>\n",
       "    </tr>\n",
       "    <tr>\n",
       "      <th>31581</th>\n",
       "      <td>Verdict from 2002, A lot has transpired since ...</td>\n",
       "      <td>0</td>\n",
       "      <td>verdict lot transpired since richard rovere di...</td>\n",
       "    </tr>\n",
       "    <tr>\n",
       "      <th>13541</th>\n",
       "      <td>BUYER BEWARE, I bought this Toshiba DVD Player...</td>\n",
       "      <td>0</td>\n",
       "      <td>buyer beware bought toshiba dvd player seven m...</td>\n",
       "    </tr>\n",
       "    <tr>\n",
       "      <th>16418</th>\n",
       "      <td>Pre-Historic Nancy Drew meets Kama Sutra, What...</td>\n",
       "      <td>0</td>\n",
       "      <td>pre historic nancy drew meets kama sutra disap...</td>\n",
       "    </tr>\n",
       "    <tr>\n",
       "      <th>19572</th>\n",
       "      <td>Wish they still made Peaceful Planet, I recent...</td>\n",
       "      <td>0</td>\n",
       "      <td>wish still made peaceful planet recently bough...</td>\n",
       "    </tr>\n",
       "  </tbody>\n",
       "</table>\n",
       "</div>"
      ],
      "text/plain": [
       "                                                 content  sentiment  \\\n",
       "20763  I wish I could pluck out my eyes., Based on th...          0   \n",
       "31581  Verdict from 2002, A lot has transpired since ...          0   \n",
       "13541  BUYER BEWARE, I bought this Toshiba DVD Player...          0   \n",
       "16418  Pre-Historic Nancy Drew meets Kama Sutra, What...          0   \n",
       "19572  Wish they still made Peaceful Planet, I recent...          0   \n",
       "\n",
       "                                              cleanedTxt  \n",
       "20763  wish could pluck eyes based current rating mov...  \n",
       "31581  verdict lot transpired since richard rovere di...  \n",
       "13541  buyer beware bought toshiba dvd player seven m...  \n",
       "16418  pre historic nancy drew meets kama sutra disap...  \n",
       "19572  wish still made peaceful planet recently bough...  "
      ]
     },
     "execution_count": 114,
     "metadata": {},
     "output_type": "execute_result"
    }
   ],
   "source": [
    "testData.head()"
   ]
  },
  {
   "cell_type": "code",
   "execution_count": 142,
   "metadata": {},
   "outputs": [],
   "source": [
    "trainDataPos = trainData[trainData['sentiment']==1].reset_index(drop=True)\n",
    "trainDataNeg = trainData[trainData['sentiment']==0].reset_index(drop=True)"
   ]
  },
  {
   "cell_type": "code",
   "execution_count": 143,
   "metadata": {},
   "outputs": [
    {
     "data": {
      "text/plain": [
       "((2458, 3), (24568, 3))"
      ]
     },
     "execution_count": 143,
     "metadata": {},
     "output_type": "execute_result"
    }
   ],
   "source": [
    "trainDataPos.shape, trainDataNeg.shape"
   ]
  },
  {
   "cell_type": "code",
   "execution_count": 172,
   "metadata": {},
   "outputs": [
    {
     "name": "stdout",
     "output_type": "stream",
     "text": [
      "0\n",
      "Train Accuracy 0.963663180477\n",
      "Validation Accuracy 0.937121212121\n",
      "             precision    recall  f1-score   support\n",
      "\n",
      "          0       0.99      0.94      0.96      5998\n",
      "          1       0.60      0.90      0.72       602\n",
      "\n",
      "avg / total       0.95      0.94      0.94      6600\n",
      "\n",
      "1\n",
      "Train Accuracy 0.959372485921\n",
      "Validation Accuracy 0.939545454545\n",
      "             precision    recall  f1-score   support\n",
      "\n",
      "          0       0.99      0.94      0.97      5998\n",
      "          1       0.62      0.90      0.73       602\n",
      "\n",
      "avg / total       0.96      0.94      0.94      6600\n",
      "\n",
      "2\n",
      "Train Accuracy 0.959104317511\n",
      "Validation Accuracy 0.935303030303\n",
      "             precision    recall  f1-score   support\n",
      "\n",
      "          0       0.99      0.94      0.96      5998\n",
      "          1       0.60      0.90      0.72       602\n",
      "\n",
      "avg / total       0.95      0.94      0.94      6600\n",
      "\n",
      "3\n",
      "Train Accuracy 0.957495307053\n",
      "Validation Accuracy 0.938181818182\n",
      "             precision    recall  f1-score   support\n",
      "\n",
      "          0       0.99      0.94      0.97      5998\n",
      "          1       0.61      0.90      0.73       602\n",
      "\n",
      "avg / total       0.95      0.94      0.94      6600\n",
      "\n",
      "4\n",
      "Train Accuracy 0.96071332797\n",
      "Validation Accuracy 0.935757575758\n",
      "             precision    recall  f1-score   support\n",
      "\n",
      "          0       0.99      0.94      0.96      5998\n",
      "          1       0.60      0.91      0.72       602\n",
      "\n",
      "avg / total       0.95      0.94      0.94      6600\n",
      "\n",
      "5\n",
      "Train Accuracy 0.963797264682\n",
      "Validation Accuracy 0.937424242424\n",
      "             precision    recall  f1-score   support\n",
      "\n",
      "          0       0.99      0.94      0.96      5998\n",
      "          1       0.61      0.90      0.72       602\n",
      "\n",
      "avg / total       0.95      0.94      0.94      6600\n",
      "\n",
      "6\n",
      "Train Accuracy 0.960847412175\n",
      "Validation Accuracy 0.935303030303\n",
      "             precision    recall  f1-score   support\n",
      "\n",
      "          0       0.99      0.94      0.96      5998\n",
      "          1       0.60      0.90      0.72       602\n",
      "\n",
      "avg / total       0.95      0.94      0.94      6600\n",
      "\n",
      "7\n",
      "Train Accuracy 0.961383748994\n",
      "Validation Accuracy 0.932878787879\n",
      "             precision    recall  f1-score   support\n",
      "\n",
      "          0       0.99      0.94      0.96      5998\n",
      "          1       0.59      0.90      0.71       602\n",
      "\n",
      "avg / total       0.95      0.93      0.94      6600\n",
      "\n",
      "8\n",
      "Train Accuracy 0.961651917404\n",
      "Validation Accuracy 0.936818181818\n",
      "             precision    recall  f1-score   support\n",
      "\n",
      "          0       0.99      0.94      0.96      5998\n",
      "          1       0.60      0.90      0.72       602\n",
      "\n",
      "avg / total       0.95      0.94      0.94      6600\n",
      "\n",
      "9\n",
      "Train Accuracy 0.956824886028\n",
      "Validation Accuracy 0.936666666667\n",
      "             precision    recall  f1-score   support\n",
      "\n",
      "          0       0.99      0.94      0.96      5998\n",
      "          1       0.60      0.90      0.72       602\n",
      "\n",
      "avg / total       0.95      0.94      0.94      6600\n",
      "\n"
     ]
    }
   ],
   "source": [
    "#classifier Naive Bayes\n",
    "from sklearn.naive_bayes import MultinomialNB\n",
    "from sklearn.metrics import confusion_matrix, classification_report\n",
    "\n",
    "X_valid = vec.transform(testData['cleanedTxt'].values)\n",
    "y_valid = testData['sentiment'].values\n",
    "\n",
    "prediction = np.zeros((testData.shape[0], 10))\n",
    "\n",
    "\n",
    "for i in range(10):\n",
    "    ind = np.random.choice(trainDataNeg.index.values, 5000)\n",
    "    print(i)\n",
    "    negativeSamples = trainDataNeg.iloc[ind]\n",
    "    trainDF = pd.concat([negativeSamples,trainDataPos]).reset_index(drop=True)\n",
    "    X_train = vec.transform(trainDF['cleanedTxt'].values)\n",
    "    y_train = trainDF['sentiment'].values\n",
    "    clf = MultinomialNB(alpha=0.5)\n",
    "    clf.fit(X_train,y_train)\n",
    "    print('Train Accuracy',clf.score(X_train,y_train))\n",
    "    prediction[:,i] = clf.predict(X_valid)\n",
    "    print('Validation Accuracy', clf.score(X_valid, y_valid))\n",
    "    print(classification_report(y_valid, prediction[:,i]))\n",
    "\n"
   ]
  },
  {
   "cell_type": "markdown",
   "metadata": {},
   "source": [
    "#### Undersampling did not help improve the model performance."
   ]
  },
  {
   "cell_type": "markdown",
   "metadata": {},
   "source": [
    "# DeepLearning !!\n",
    "Let us try a simple RNN (LSTM) model"
   ]
  },
  {
   "cell_type": "code",
   "execution_count": 201,
   "metadata": {},
   "outputs": [],
   "source": [
    "from keras.models import Model\n",
    "from keras import layers \n",
    "from keras.preprocessing import text, sequence\n",
    "from keras.optimizers import RMSprop\n",
    "from keras.callbacks import EarlyStopping"
   ]
  },
  {
   "cell_type": "code",
   "execution_count": 200,
   "metadata": {},
   "outputs": [],
   "source": [
    "trainX, validX, trainY, validY = train_test_split(data['content'].values, data['sentiment'].values,\n",
    "                                                  test_size=0.2, random_state=42) "
   ]
  },
  {
   "cell_type": "code",
   "execution_count": 227,
   "metadata": {},
   "outputs": [],
   "source": [
    "#tokenizer: converting text to sequences \n",
    "max_words = 1000\n",
    "max_len = 150\n",
    "tokenized = text.Tokenizer(num_words = max_words)\n",
    "tokenized.fit_on_texts(trainX)\n",
    "train_seq = tokenized.texts_to_sequences(trainX)\n",
    "train_seq_matrix = sequence.pad_sequences(train_seq, maxlen=max_len)\n",
    "\n",
    "test_seq = tokenized.texts_to_sequences(validX)\n",
    "test_seq_matrix = sequence.pad_sequences(test_seq, maxlen=max_len)\n",
    "\n",
    "#RNN model\n",
    "def LSTM():\n",
    "    inputs = layers.Input(name='input_layer', shape=[max_len]) #input Layer\n",
    "    layer = layers.Embedding(max_words, 50, input_length=max_len)(inputs) #word embedding layer\n",
    "    lstm_layer = layers.LSTM(64)(layer) # LSTM layer\n",
    "    \n",
    "    #output layers\n",
    "    out_layer = layers.Dense(256, activation='relu')(lstm_layer)\n",
    "    out_layer = layers.Dropout(0.2)(out_layer)\n",
    "    out_layer = layers.Dense(1,name='out_layer', activation='sigmoid')(out_layer)\n",
    "    \n",
    "    model = Model(inputs=inputs, outputs=out_layer)\n",
    "    \n",
    "    return model"
   ]
  },
  {
   "cell_type": "code",
   "execution_count": 259,
   "metadata": {},
   "outputs": [],
   "source": [
    "model = LSTM()\n",
    "#model.summary()"
   ]
  },
  {
   "cell_type": "code",
   "execution_count": 229,
   "metadata": {},
   "outputs": [],
   "source": [
    "model.compile(loss='binary_crossentropy', optimizer=RMSprop())"
   ]
  },
  {
   "cell_type": "code",
   "execution_count": null,
   "metadata": {},
   "outputs": [
    {
     "name": "stdout",
     "output_type": "stream",
     "text": [
      "Epoch 1/50\n",
      "26400/26400 [==============================] - 167s - loss: 0.0968   \n",
      "Epoch 2/50\n",
      "26400/26400 [==============================] - 159s - loss: 0.0928   \n",
      "Epoch 3/50\n",
      "26400/26400 [==============================] - 154s - loss: 0.0879   \n",
      "Epoch 4/50\n",
      "26400/26400 [==============================] - 133s - loss: 0.0831   \n",
      "Epoch 5/50\n",
      "26400/26400 [==============================] - 129s - loss: 0.0811   \n",
      "Epoch 6/50\n",
      "26400/26400 [==============================] - 148s - loss: 0.0765   \n",
      "Epoch 7/50\n",
      "26400/26400 [==============================] - 143s - loss: 0.0722   \n",
      "Epoch 8/50\n",
      "26400/26400 [==============================] - 143s - loss: 0.0702   \n",
      "Epoch 9/50\n",
      "26400/26400 [==============================] - 151s - loss: 0.0669   \n",
      "Epoch 10/50\n",
      "26400/26400 [==============================] - 153s - loss: 0.0636   \n",
      "Epoch 11/50\n",
      "26400/26400 [==============================] - 147s - loss: 0.0603   \n",
      "Epoch 12/50\n",
      "26400/26400 [==============================] - 151s - loss: 0.0559   \n",
      "Epoch 13/50\n",
      "26400/26400 [==============================] - 153s - loss: 0.0519   \n",
      "Epoch 14/50\n",
      "26400/26400 [==============================] - 150s - loss: 0.0479   \n",
      "Epoch 15/50\n",
      "26400/26400 [==============================] - 145s - loss: 0.0448   \n",
      "Epoch 16/50\n",
      "26400/26400 [==============================] - 144s - loss: 0.0405   \n",
      "Epoch 17/50\n",
      "26400/26400 [==============================] - 147s - loss: 0.0365   \n",
      "Epoch 18/50\n",
      "26400/26400 [==============================] - 153s - loss: 0.0323   \n",
      "Epoch 19/50\n",
      "26400/26400 [==============================] - 144s - loss: 0.0268   \n",
      "Epoch 20/50\n",
      "26400/26400 [==============================] - 142s - loss: 0.0240   \n",
      "Epoch 21/50\n",
      "26400/26400 [==============================] - 142s - loss: 0.0210   \n",
      "Epoch 22/50\n",
      "26400/26400 [==============================] - 147s - loss: 0.0173   \n",
      "Epoch 23/50\n",
      "26400/26400 [==============================] - 140s - loss: 0.0172   \n",
      "Epoch 24/50\n",
      "26400/26400 [==============================] - 140s - loss: 0.0157   \n",
      "Epoch 25/50\n",
      "26400/26400 [==============================] - 140s - loss: 0.0133   \n",
      "Epoch 26/50\n",
      "26400/26400 [==============================] - 156s - loss: 0.0096   \n",
      "Epoch 27/50\n",
      "26400/26400 [==============================] - 142s - loss: 0.0094   \n",
      "Epoch 28/50\n",
      "26400/26400 [==============================] - 146s - loss: 0.0101   \n",
      "Epoch 30/50\n",
      "26400/26400 [==============================] - 140s - loss: 0.0063   \n",
      "Epoch 34/50\n",
      "26400/26400 [==============================] - 153s - loss: 0.0026   \n",
      "Epoch 41/50\n",
      "26400/26400 [==============================] - 141s - loss: 0.0031   \n",
      "Epoch 42/50\n",
      "26400/26400 [==============================] - 145s - loss: 0.0038   \n",
      "Epoch 43/50\n",
      "26400/26400 [==============================] - 128s - loss: 0.0029   \n"
     ]
    },
    {
     "data": {
      "text/plain": [
       "<keras.callbacks.History at 0xfd3d048>"
      ]
     },
     "execution_count": 238,
     "metadata": {},
     "output_type": "execute_result"
    }
   ],
   "source": [
    "model.fit(train_seq_matrix, trainY, epochs=50) #, callbacks=[EarlyStopping(monitor='val_loss', min_delta=0.001)])"
   ]
  },
  {
   "cell_type": "code",
   "execution_count": 240,
   "metadata": {},
   "outputs": [],
   "source": [
    "predict = model.predict(test_seq_matrix)"
   ]
  },
  {
   "cell_type": "code",
   "execution_count": 241,
   "metadata": {},
   "outputs": [],
   "source": [
    "for i in range(len(predict)):\n",
    "    if predict[i]>0.5: \n",
    "        predict[i]=1.0\n",
    "    else:\n",
    "        predict[i]=0.0\n",
    "            "
   ]
  },
  {
   "cell_type": "code",
   "execution_count": 242,
   "metadata": {},
   "outputs": [
    {
     "data": {
      "image/png": "[encoded data removed]",
      "text/plain": [
       "<matplotlib.figure.Figure at 0x21268fd0>"
      ]
     },
     "metadata": {},
     "output_type": "display_data"
    }
   ],
   "source": [
    "cm=confusion_matrix(validY,predict)\n",
    "plotConfusion(cm)"
   ]
  },
  {
   "cell_type": "code",
   "execution_count": 251,
   "metadata": {},
   "outputs": [
    {
     "name": "stdout",
     "output_type": "stream",
     "text": [
      "Area Under ROC 0.825800044847\n"
     ]
    },
    {
     "data": {
      "image/png": "[encoded data removed]",
      "text/plain": [
       "<matplotlib.figure.Figure at 0x3820cd68>"
      ]
     },
     "metadata": {},
     "output_type": "display_data"
    }
   ],
   "source": [
    "from sklearn.metrics import roc_auc_score\n",
    "print('Area Under ROC',roc_auc_score(validY,predict))\n",
    "from sklearn.metrics import roc_curve, auc\n",
    "fpr, tpr, threshold = roc_curve(validY, predict)\n",
    "roc_auc = auc(fpr, tpr)\n",
    "plt.plot(fpr,tpr, color='r', lw=3, label='ROC curve (auc= %0.3f)'%roc_auc)\n",
    "plt.plot([0,1],[0,1], 'b-')\n",
    "plt.legend(loc='best')\n",
    "plt.show()"
   ]
  },
  {
   "cell_type": "markdown",
   "metadata": {},
   "source": [
    "#### LSTM has similar performance as well"
   ]
  },
  {
   "cell_type": "markdown",
   "metadata": {},
   "source": [
    "# Let us pick our simple and nice model and try different train/test split \n",
    "#### 70/30"
   ]
  },
  {
   "cell_type": "code",
   "execution_count": 261,
   "metadata": {},
   "outputs": [
    {
     "name": "stdout",
     "output_type": "stream",
     "text": [
      "Train Accuracy 0.968701298701\n",
      "Validation Accuracy 0.958383838384\n",
      "             precision    recall  f1-score   support\n",
      "\n",
      "          0       0.98      0.97      0.98      9011\n",
      "          1       0.75      0.81      0.78       889\n",
      "\n",
      "avg / total       0.96      0.96      0.96      9900\n",
      "\n"
     ]
    },
    {
     "data": {
      "image/png": "[encoded data removed]",
      "text/plain": [
       "<matplotlib.figure.Figure at 0x16a4d278>"
      ]
     },
     "metadata": {},
     "output_type": "display_data"
    },
    {
     "name": "stdout",
     "output_type": "stream",
     "text": [
      "Area Under ROC 0.891465861185\n"
     ]
    },
    {
     "data": {
      "image/png": "[encoded data removed]",
      "text/plain": [
       "<matplotlib.figure.Figure at 0xe0a6438>"
      ]
     },
     "metadata": {},
     "output_type": "display_data"
    }
   ],
   "source": [
    "trX, teX, trY, teY = train_test_split(data['cleanedTxt'].values, data['sentiment'].values,\n",
    "                                                  test_size=0.3, random_state=42) \n",
    "vec = CountVectorizer(max_features=8000)  #unigram\n",
    "bow=vec.fit(trX)\n",
    "#print(bow.shape)\n",
    "X_train = vec.transform(trX)\n",
    "X_valid = vec.transform(teX)\n",
    "\n",
    "#classifier Naive Bayes\n",
    "from sklearn.naive_bayes import MultinomialNB\n",
    "from sklearn.metrics import confusion_matrix, classification_report\n",
    "clf = MultinomialNB()\n",
    "clf.fit(X_train,trY)\n",
    "print('Train Accuracy',clf.score(X_train,trY))\n",
    "predictedY = clf.predict(X_valid)\n",
    "print('Validation Accuracy', clf.score(X_valid, teY))\n",
    "\n",
    "print(classification_report(teY, predictedY))\n",
    "\n",
    "cm=confusion_matrix(teY,predictedY)\n",
    "plotConfusion(cm)\n",
    "\n",
    "print('Area Under ROC',roc_auc_score(teY,predictedY))\n",
    "\n",
    "fpr, tpr, threshold = roc_curve(teY, predictedY)\n",
    "roc_auc = auc(fpr, tpr)\n",
    "plt.plot(fpr,tpr, color='r', lw=3, label='ROC curve (auc= %0.3f)'%roc_auc)\n",
    "plt.plot([0,1],[0,1], 'b-')\n",
    "plt.legend(loc='best')\n",
    "plt.show()"
   ]
  },
  {
   "cell_type": "markdown",
   "metadata": {},
   "source": [
    "#### 90/10"
   ]
  },
  {
   "cell_type": "code",
   "execution_count": 262,
   "metadata": {},
   "outputs": [
    {
     "name": "stdout",
     "output_type": "stream",
     "text": [
      "Train Accuracy 0.968316498316\n",
      "Validation Accuracy 0.963636363636\n",
      "             precision    recall  f1-score   support\n",
      "\n",
      "          0       0.98      0.98      0.98      3013\n",
      "          1       0.77      0.84      0.80       287\n",
      "\n",
      "avg / total       0.97      0.96      0.96      3300\n",
      "\n"
     ]
    },
    {
     "data": {
      "image/png": "[encoded data removed]",
      "text/plain": [
       "<matplotlib.figure.Figure at 0x3169dc50>"
      ]
     },
     "metadata": {},
     "output_type": "display_data"
    },
    {
     "name": "stdout",
     "output_type": "stream",
     "text": [
      "Area Under ROC 0.906004294977\n"
     ]
    },
    {
     "data": {
      "image/png": "[encoded data removed]",
      "text/plain": [
       "<matplotlib.figure.Figure at 0x16417630>"
      ]
     },
     "metadata": {},
     "output_type": "display_data"
    }
   ],
   "source": [
    "trX, teX, trY, teY = train_test_split(data['cleanedTxt'].values, data['sentiment'].values,\n",
    "                                                  test_size=0.1, random_state=42) \n",
    "bow=vec.fit(trX)\n",
    "#print(bow.shape)\n",
    "X_train = vec.transform(trX)\n",
    "X_valid = vec.transform(teX)\n",
    "\n",
    "clf.fit(X_train,trY)\n",
    "print('Train Accuracy',clf.score(X_train,trY))\n",
    "predictedY = clf.predict(X_valid)\n",
    "print('Validation Accuracy', clf.score(X_valid, teY))\n",
    "\n",
    "print(classification_report(teY, predictedY))\n",
    "\n",
    "cm=confusion_matrix(teY,predictedY)\n",
    "plotConfusion(cm)\n",
    "\n",
    "print('Area Under ROC',roc_auc_score(teY,predictedY))\n",
    "\n",
    "fpr, tpr, threshold = roc_curve(teY, predictedY)\n",
    "roc_auc = auc(fpr, tpr)\n",
    "plt.plot(fpr,tpr, color='r', lw=3, label='ROC curve (auc= %0.3f)'%roc_auc)\n",
    "plt.plot([0,1],[0,1], 'b-')\n",
    "plt.legend(loc='best')\n",
    "plt.show()"
   ]
  },
  {
   "cell_type": "code",
   "execution_count": 263,
   "metadata": {},
   "outputs": [
    {
     "name": "stdout",
     "output_type": "stream",
     "text": [
      "Train Accuracy 0.968261562998\n",
      "Validation Accuracy 0.960606060606\n",
      "             precision    recall  f1-score   support\n",
      "\n",
      "          0       0.99      0.97      0.98      1510\n",
      "          1       0.73      0.85      0.79       140\n",
      "\n",
      "avg / total       0.96      0.96      0.96      1650\n",
      "\n"
     ]
    },
    {
     "data": {
      "image/png": "[encoded data removed]",
      "text/plain": [
       "<matplotlib.figure.Figure at 0x317dc3c8>"
      ]
     },
     "metadata": {},
     "output_type": "display_data"
    },
    {
     "name": "stdout",
     "output_type": "stream",
     "text": [
      "Area Under ROC 0.910430463576\n"
     ]
    },
    {
     "data": {
      "image/png": "[encoded data removed]",
      "text/plain": [
       "<matplotlib.figure.Figure at 0x2dc440b8>"
      ]
     },
     "metadata": {},
     "output_type": "display_data"
    }
   ],
   "source": [
    "trX, teX, trY, teY = train_test_split(data['cleanedTxt'].values, data['sentiment'].values,\n",
    "                                                  test_size=0.05, random_state=42) \n",
    "bow=vec.fit(trX)\n",
    "#print(bow.shape)\n",
    "X_train = vec.transform(trX)\n",
    "X_valid = vec.transform(teX)\n",
    "\n",
    "clf.fit(X_train,trY)\n",
    "print('Train Accuracy',clf.score(X_train,trY))\n",
    "predictedY = clf.predict(X_valid)\n",
    "print('Validation Accuracy', clf.score(X_valid, teY))\n",
    "\n",
    "print(classification_report(teY, predictedY))\n",
    "\n",
    "cm=confusion_matrix(teY,predictedY)\n",
    "plotConfusion(cm)\n",
    "\n",
    "print('Area Under ROC',roc_auc_score(teY,predictedY))\n",
    "\n",
    "fpr, tpr, threshold = roc_curve(teY, predictedY)\n",
    "roc_auc = auc(fpr, tpr)\n",
    "plt.plot(fpr,tpr, color='r', lw=3, label='ROC curve (auc= %0.3f)'%roc_auc)\n",
    "plt.plot([0,1],[0,1], 'b-')\n",
    "plt.legend(loc='best')\n",
    "plt.show()"
   ]
  },
  {
   "cell_type": "markdown",
   "metadata": {},
   "source": [
    "#### 90/10 or 95/05 looks good and it makes sense as we are training our model with more information"
   ]
  },
  {
   "cell_type": "code",
   "execution_count": null,
   "metadata": {},
   "outputs": [],
   "source": []
  }
 ],
 "metadata": {
  "kernelspec": {
   "display_name": "Python 3",
   "language": "python",
   "name": "python3"
  },
  "language_info": {
   "codemirror_mode": {
    "name": "ipython",
    "version": 3
   },
   "file_extension": ".py",
   "mimetype": "text/x-python",
   "name": "python",
   "nbconvert_exporter": "python",
   "pygments_lexer": "ipython3",
   "version": "3.6.3"
  }
 },
 "nbformat": 4,
 "nbformat_minor": 2
}
